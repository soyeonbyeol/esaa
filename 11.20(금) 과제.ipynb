{
 "cells": [
  {
   "cell_type": "markdown",
   "metadata": {},
   "source": [
    "## 1. CH08-연습문제 1번\n",
    "\n",
    "### 데이터셋의 차원을 축소하는 주요 목적은 무엇인가요? 대표적인 단점은 무엇인가요?"
   ]
  },
  {
   "cell_type": "markdown",
   "metadata": {},
   "source": [
    "주요 목적은 다음과 같다\n",
    "- 데이터의 차원을 낮춤으로서 크기를 줄여 차지하는 용량(메모리)을 줄인다.\n",
    "- 일반적이지는 않지만 훈련 알고리즘의 속도를 높일 수 있다.\n",
    "- 데이터를 시각화하고 중요한 통찰을 얻을 수 있다.\n",
    "\n",
    "대표적인 단점은 다음과 같다.\n",
    "- 데이터의 차원을 낮춘다는 것은 데이터의 유실을 의미하므로 시스템의 성능이 나빠질 수 있다.\n",
    "- 파이프라인의 복잡도를 증가시킨다.\n",
    "- 차원이 축소된 데이터의 해석이 어려워진다."
   ]
  },
  {
   "cell_type": "markdown",
   "metadata": {},
   "source": [
    "## 2. CH08-연습문제 7번\n",
    "\n",
    "### 어떤 데이터셋에 적용한 차원 축소 알고리즘의 성능을 어떻게 평가할 수 있을까요?"
   ]
  },
  {
   "cell_type": "markdown",
   "metadata": {},
   "source": [
    "역변환을 수행할 수 있다면 역변환을 수행하여 원래의 데이터와 얼마만큼의 차이가 있는지(재구성 오차)를 계산한다.\n",
    "원래의 데이터셋으로 어떠한 작업을 수행했을 때와 축소된 데이터셋으로 동일한 작업을 수행했을 때 비슷한 결과가 나온다면 차원 축소 알고리즘이 좋은 성능을 내고 있다고 판단할 수 있다."
   ]
  },
  {
   "cell_type": "markdown",
   "metadata": {},
   "source": [
    "## 3. CH09-연습문제 3번\n",
    "\n",
    "### k-평균을 사용할 때 적절한 클러스터 개수를 선택할 수 있는 두 가지 기법을 설명하세요."
   ]
  },
  {
   "cell_type": "markdown",
   "metadata": {},
   "source": [
    "1. k를 바꿔가며 이너셔를 계산하고, plotting을 하여 elbow가 있는 지점의 k를 선택한다.\n",
    "2. k를 바꿔가며 실루엣 스코어를 그래프로 그려 적절한 k를 선택한다."
   ]
  }
 ],
 "metadata": {
  "kernelspec": {
   "display_name": "Python 3",
   "language": "python",
   "name": "python3"
  },
  "language_info": {
   "codemirror_mode": {
    "name": "ipython",
    "version": 3
   },
   "file_extension": ".py",
   "mimetype": "text/x-python",
   "name": "python",
   "nbconvert_exporter": "python",
   "pygments_lexer": "ipython3",
   "version": "3.8.3"
  }
 },
 "nbformat": 4,
 "nbformat_minor": 4
}
